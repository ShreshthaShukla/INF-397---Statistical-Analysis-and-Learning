{
 "cells": [
  {
   "cell_type": "code",
   "execution_count": 1,
   "metadata": {},
   "outputs": [],
   "source": [
    "# import required packages\n",
    "\n",
    "import numpy as np\n",
    "import pandas as pd\n",
    "import math\n",
    "import sklearn\n",
    "import sklearn.preprocessing\n",
    "import datetime\n",
    "import os\n",
    "import matplotlib.pyplot as plt\n",
    "import tensorflow as tf"
   ]
  },
  {
   "cell_type": "code",
   "execution_count": 2,
   "metadata": {},
   "outputs": [],
   "source": [
    "## LOAD DATA"
   ]
  },
  {
   "cell_type": "code",
   "execution_count": 3,
   "metadata": {},
   "outputs": [
    {
     "name": "stdout",
     "output_type": "stream",
     "text": [
      "C:\\Users\\sanch\\OneDrive\\Documents\\Graduate School\\UT-Austin - MSIS\\INF 397 - Statistical Analysis and Learning: ['Data', 'Exams', 'Homework', 'Labs', 'Lectures', 'Project', 'SAL_Spring-2018_Syllabus.pdf', 'Textbooks']\n",
      "C:\\Users\\sanch\\OneDrive\\Documents\\Graduate School\\UT-Austin - MSIS\\INF 397 - Statistical Analysis and Learning\\Project: ['.ipynb_checkpoints', '180209, Project Timeline.docx', 'arrest_year_counts.xlsx', 'Chicago_Crimes_2001_to_2004.csv', 'Chicago_Crimes_2005_to_2007.csv', 'Chicago_Crimes_2008_to_2011.csv', 'Chicago_Crimes_2012_to_2017.csv', 'crime_type_counts.xlsx', 'Project Proposal PPT.pptx', 'Project Prototype v1.ipynb', 'SAL proposal.docx', 'SAL proposal.pdf', 'well_A.csv', 'year_counts.xlsx']\n"
     ]
    }
   ],
   "source": [
    "# display parent directory and working directory\n",
    "\n",
    "print(os.path.dirname(os.getcwd())+':', os.listdir(os.path.dirname(os.getcwd())));\n",
    "print(os.getcwd()+':', os.listdir(os.getcwd()));"
   ]
  },
  {
   "cell_type": "code",
   "execution_count": 4,
   "metadata": {},
   "outputs": [
    {
     "name": "stderr",
     "output_type": "stream",
     "text": [
      "C:\\Users\\sanch\\Anaconda3\\lib\\site-packages\\IPython\\core\\interactiveshell.py:2698: DtypeWarning: Columns (9,10,11,12,13,14,16,17,18,20,21) have mixed types. Specify dtype option on import or set low_memory=False.\n",
      "  interactivity=interactivity, compiler=compiler, result=result)\n",
      "C:\\Users\\sanch\\Anaconda3\\lib\\site-packages\\numpy\\lib\\arraysetops.py:463: FutureWarning: elementwise comparison failed; returning scalar instead, but in the future will perform elementwise comparison\n",
      "  mask |= (ar1 == a)\n",
      "C:\\Users\\sanch\\Anaconda3\\lib\\site-packages\\IPython\\core\\interactiveshell.py:2698: DtypeWarning: Columns (21) have mixed types. Specify dtype option on import or set low_memory=False.\n",
      "  interactivity=interactivity, compiler=compiler, result=result)\n"
     ]
    }
   ],
   "source": [
    "# import data\n",
    "\n",
    "df1 = pd.read_csv(\"Chicago_Crimes_2001_to_2004.csv\", index_col = 0)\n",
    "df2 = pd.read_csv(\"Chicago_Crimes_2005_to_2007.csv\", index_col = 0)\n",
    "df3 = pd.read_csv(\"Chicago_Crimes_2008_to_2011.csv\", index_col = 0)\n",
    "df4 = pd.read_csv(\"Chicago_Crimes_2012_to_2017.csv\", index_col = 0)\n"
   ]
  },
  {
   "cell_type": "code",
   "execution_count": 5,
   "metadata": {},
   "outputs": [],
   "source": [
    "# combine data frames\n",
    "\n",
    "frames = [df1, df2, df3, df4]\n",
    "full_dataset = pd.concat(frames)"
   ]
  },
  {
   "cell_type": "code",
   "execution_count": 6,
   "metadata": {},
   "outputs": [
    {
     "name": "stdout",
     "output_type": "stream",
     "text": [
      "<class 'pandas.core.frame.DataFrame'>\n",
      "Int64Index: 7941286 entries, 879 to 6253474\n",
      "Data columns (total 22 columns):\n",
      "ID                      float64\n",
      "Case Number             object\n",
      "Date                    object\n",
      "Block                   object\n",
      "IUCR                    object\n",
      "Primary Type            object\n",
      "Description             object\n",
      "Location Description    object\n",
      "Arrest                  object\n",
      "Domestic                object\n",
      "Beat                    object\n",
      "District                object\n",
      "Ward                    object\n",
      "Community Area          object\n",
      "FBI Code                object\n",
      "X Coordinate            object\n",
      "Y Coordinate            object\n",
      "Year                    object\n",
      "Updated On              object\n",
      "Latitude                object\n",
      "Longitude               object\n",
      "Location                object\n",
      "dtypes: float64(1), object(21)\n",
      "memory usage: 1.4+ GB\n"
     ]
    }
   ],
   "source": [
    "full_dataset.info()"
   ]
  },
  {
   "cell_type": "code",
   "execution_count": 7,
   "metadata": {},
   "outputs": [
    {
     "data": {
      "text/plain": [
       "array([2004, 2003, 2001, 2002, '2004', '2003', '2002', '2001',\n",
       "       'Y Coordinate', 41.789832136, 2006, 2005, 2007, 2008, 2009, 2011,\n",
       "       2010, 2016, 2015, 2012, 2014, 2013, 2017], dtype=object)"
      ]
     },
     "execution_count": 7,
     "metadata": {},
     "output_type": "execute_result"
    }
   ],
   "source": [
    "full_dataset.Year.unique()"
   ]
  },
  {
   "cell_type": "code",
   "execution_count": 8,
   "metadata": {},
   "outputs": [],
   "source": [
    "# fix similar variables\n",
    "\n",
    "full_dataset['Year'].replace('2001', 2001,inplace=True)\n",
    "full_dataset['Year'].replace('2002', 2002,inplace=True)\n",
    "full_dataset['Year'].replace('2003', 2003,inplace=True)\n",
    "full_dataset['Year'].replace('2004', 2004,inplace=True)"
   ]
  },
  {
   "cell_type": "code",
   "execution_count": 9,
   "metadata": {},
   "outputs": [
    {
     "data": {
      "text/plain": [
       "array([2004, 2003, 2001, 2002, 'Y Coordinate', 41.789832136, 2006, 2005,\n",
       "       2007, 2008, 2009, 2011, 2010, 2016, 2015, 2012, 2014, 2013, 2017], dtype=object)"
      ]
     },
     "execution_count": 9,
     "metadata": {},
     "output_type": "execute_result"
    }
   ],
   "source": [
    "full_dataset.Year.unique()"
   ]
  },
  {
   "cell_type": "code",
   "execution_count": 10,
   "metadata": {},
   "outputs": [],
   "source": [
    "# remove strange values\n",
    "\n",
    "full_dataset2 = full_dataset[full_dataset.Year != 'Y Coordinate']"
   ]
  },
  {
   "cell_type": "code",
   "execution_count": 11,
   "metadata": {},
   "outputs": [],
   "source": [
    "full_dataset3 = full_dataset2[full_dataset2.Year != 41.789832136]"
   ]
  },
  {
   "cell_type": "code",
   "execution_count": 12,
   "metadata": {},
   "outputs": [],
   "source": [
    "## DATA EXPLORATION"
   ]
  },
  {
   "cell_type": "code",
   "execution_count": 13,
   "metadata": {},
   "outputs": [
    {
     "data": {
      "text/plain": [
       "2008    852053\n",
       "2006    794685\n",
       "2009    783900\n",
       "2010    700692\n",
       "2007    621849\n",
       "2001    568517\n",
       "2002    490879\n",
       "2003    475913\n",
       "2005    455811\n",
       "2004    388205\n",
       "2011    352066\n",
       "2012    335670\n",
       "2013    306703\n",
       "2014    274527\n",
       "2016    265462\n",
       "2015    262995\n",
       "2017     11357\n",
       "Name: Year, dtype: int64"
      ]
     },
     "execution_count": 13,
     "metadata": {},
     "output_type": "execute_result"
    }
   ],
   "source": [
    "full_dataset3.sort_values(by=['Year'])\n",
    "full_dataset3.Year.value_counts()"
   ]
  },
  {
   "cell_type": "code",
   "execution_count": 14,
   "metadata": {},
   "outputs": [
    {
     "name": "stderr",
     "output_type": "stream",
     "text": [
      "C:\\Users\\sanch\\Anaconda3\\lib\\site-packages\\pandas\\core\\frame.py:2746: SettingWithCopyWarning: \n",
      "A value is trying to be set on a copy of a slice from a DataFrame\n",
      "\n",
      "See the caveats in the documentation: http://pandas.pydata.org/pandas-docs/stable/indexing.html#indexing-view-versus-copy\n",
      "  **kwargs)\n"
     ]
    },
    {
     "data": {
      "text/html": [
       "<div>\n",
       "<style>\n",
       "    .dataframe thead tr:only-child th {\n",
       "        text-align: right;\n",
       "    }\n",
       "\n",
       "    .dataframe thead th {\n",
       "        text-align: left;\n",
       "    }\n",
       "\n",
       "    .dataframe tbody tr th {\n",
       "        vertical-align: top;\n",
       "    }\n",
       "</style>\n",
       "<table border=\"1\" class=\"dataframe\">\n",
       "  <thead>\n",
       "    <tr style=\"text-align: right;\">\n",
       "      <th></th>\n",
       "      <th>ID</th>\n",
       "      <th>Case Number</th>\n",
       "      <th>Date</th>\n",
       "      <th>Block</th>\n",
       "      <th>IUCR</th>\n",
       "      <th>Primary_Type</th>\n",
       "      <th>Description</th>\n",
       "      <th>Location Description</th>\n",
       "      <th>Arrest</th>\n",
       "      <th>Domestic</th>\n",
       "      <th>...</th>\n",
       "      <th>Ward</th>\n",
       "      <th>Community Area</th>\n",
       "      <th>FBI Code</th>\n",
       "      <th>X Coordinate</th>\n",
       "      <th>Y Coordinate</th>\n",
       "      <th>Year</th>\n",
       "      <th>Updated On</th>\n",
       "      <th>Latitude</th>\n",
       "      <th>Longitude</th>\n",
       "      <th>Location</th>\n",
       "    </tr>\n",
       "  </thead>\n",
       "  <tbody>\n",
       "    <tr>\n",
       "      <th>879</th>\n",
       "      <td>4786321.0</td>\n",
       "      <td>HM399414</td>\n",
       "      <td>01/01/2004 12:01:00 AM</td>\n",
       "      <td>082XX S COLES AVE</td>\n",
       "      <td>0840</td>\n",
       "      <td>THEFT</td>\n",
       "      <td>FINANCIAL ID THEFT: OVER $300</td>\n",
       "      <td>RESIDENCE</td>\n",
       "      <td>False</td>\n",
       "      <td>False</td>\n",
       "      <td>...</td>\n",
       "      <td>7</td>\n",
       "      <td>46</td>\n",
       "      <td>06</td>\n",
       "      <td>NaN</td>\n",
       "      <td>NaN</td>\n",
       "      <td>2004</td>\n",
       "      <td>08/17/2015 03:03:40 PM</td>\n",
       "      <td>NaN</td>\n",
       "      <td>NaN</td>\n",
       "      <td>NaN</td>\n",
       "    </tr>\n",
       "    <tr>\n",
       "      <th>2544</th>\n",
       "      <td>4676906.0</td>\n",
       "      <td>HM278933</td>\n",
       "      <td>03/01/2003 12:00:00 AM</td>\n",
       "      <td>004XX W 42ND PL</td>\n",
       "      <td>2825</td>\n",
       "      <td>OTHER OFFENSE</td>\n",
       "      <td>HARASSMENT BY TELEPHONE</td>\n",
       "      <td>RESIDENCE</td>\n",
       "      <td>False</td>\n",
       "      <td>True</td>\n",
       "      <td>...</td>\n",
       "      <td>11</td>\n",
       "      <td>61</td>\n",
       "      <td>26</td>\n",
       "      <td>1.17397e+06</td>\n",
       "      <td>1.87676e+06</td>\n",
       "      <td>2003</td>\n",
       "      <td>04/15/2016 08:55:02 AM</td>\n",
       "      <td>41.8172</td>\n",
       "      <td>-87.6373</td>\n",
       "      <td>(41.817229156, -87.637328162)</td>\n",
       "    </tr>\n",
       "    <tr>\n",
       "      <th>2919</th>\n",
       "      <td>4789749.0</td>\n",
       "      <td>HM402220</td>\n",
       "      <td>06/20/2004 11:00:00 AM</td>\n",
       "      <td>025XX N KIMBALL AVE</td>\n",
       "      <td>1752</td>\n",
       "      <td>OFFENSE INVOLVING CHILDREN</td>\n",
       "      <td>AGG CRIM SEX ABUSE FAM MEMBER</td>\n",
       "      <td>RESIDENCE</td>\n",
       "      <td>False</td>\n",
       "      <td>False</td>\n",
       "      <td>...</td>\n",
       "      <td>35</td>\n",
       "      <td>22</td>\n",
       "      <td>20</td>\n",
       "      <td>NaN</td>\n",
       "      <td>NaN</td>\n",
       "      <td>2004</td>\n",
       "      <td>08/17/2015 03:03:40 PM</td>\n",
       "      <td>NaN</td>\n",
       "      <td>NaN</td>\n",
       "      <td>NaN</td>\n",
       "    </tr>\n",
       "    <tr>\n",
       "      <th>2927</th>\n",
       "      <td>4789765.0</td>\n",
       "      <td>HM402058</td>\n",
       "      <td>12/30/2004 08:00:00 PM</td>\n",
       "      <td>045XX W MONTANA ST</td>\n",
       "      <td>0840</td>\n",
       "      <td>THEFT</td>\n",
       "      <td>FINANCIAL ID THEFT: OVER $300</td>\n",
       "      <td>OTHER</td>\n",
       "      <td>False</td>\n",
       "      <td>False</td>\n",
       "      <td>...</td>\n",
       "      <td>31</td>\n",
       "      <td>20</td>\n",
       "      <td>06</td>\n",
       "      <td>NaN</td>\n",
       "      <td>NaN</td>\n",
       "      <td>2004</td>\n",
       "      <td>08/17/2015 03:03:40 PM</td>\n",
       "      <td>NaN</td>\n",
       "      <td>NaN</td>\n",
       "      <td>NaN</td>\n",
       "    </tr>\n",
       "    <tr>\n",
       "      <th>3302</th>\n",
       "      <td>4677901.0</td>\n",
       "      <td>HM275615</td>\n",
       "      <td>05/01/2003 01:00:00 AM</td>\n",
       "      <td>111XX S NORMAL AVE</td>\n",
       "      <td>0841</td>\n",
       "      <td>THEFT</td>\n",
       "      <td>FINANCIAL ID THEFT:$300 &amp;UNDER</td>\n",
       "      <td>RESIDENCE</td>\n",
       "      <td>False</td>\n",
       "      <td>False</td>\n",
       "      <td>...</td>\n",
       "      <td>34</td>\n",
       "      <td>49</td>\n",
       "      <td>06</td>\n",
       "      <td>1.17495e+06</td>\n",
       "      <td>1.83105e+06</td>\n",
       "      <td>2003</td>\n",
       "      <td>04/15/2016 08:55:02 AM</td>\n",
       "      <td>41.6918</td>\n",
       "      <td>-87.6351</td>\n",
       "      <td>(41.691784636, -87.635115968)</td>\n",
       "    </tr>\n",
       "  </tbody>\n",
       "</table>\n",
       "<p>5 rows × 22 columns</p>\n",
       "</div>"
      ],
      "text/plain": [
       "             ID Case Number                    Date                Block  \\\n",
       "879   4786321.0    HM399414  01/01/2004 12:01:00 AM    082XX S COLES AVE   \n",
       "2544  4676906.0    HM278933  03/01/2003 12:00:00 AM      004XX W 42ND PL   \n",
       "2919  4789749.0    HM402220  06/20/2004 11:00:00 AM  025XX N KIMBALL AVE   \n",
       "2927  4789765.0    HM402058  12/30/2004 08:00:00 PM   045XX W MONTANA ST   \n",
       "3302  4677901.0    HM275615  05/01/2003 01:00:00 AM   111XX S NORMAL AVE   \n",
       "\n",
       "      IUCR                Primary_Type                     Description  \\\n",
       "879   0840                       THEFT   FINANCIAL ID THEFT: OVER $300   \n",
       "2544  2825               OTHER OFFENSE         HARASSMENT BY TELEPHONE   \n",
       "2919  1752  OFFENSE INVOLVING CHILDREN   AGG CRIM SEX ABUSE FAM MEMBER   \n",
       "2927  0840                       THEFT   FINANCIAL ID THEFT: OVER $300   \n",
       "3302  0841                       THEFT  FINANCIAL ID THEFT:$300 &UNDER   \n",
       "\n",
       "     Location Description Arrest Domestic              ...               Ward  \\\n",
       "879             RESIDENCE  False    False              ...                  7   \n",
       "2544            RESIDENCE  False     True              ...                 11   \n",
       "2919            RESIDENCE  False    False              ...                 35   \n",
       "2927                OTHER  False    False              ...                 31   \n",
       "3302            RESIDENCE  False    False              ...                 34   \n",
       "\n",
       "     Community Area FBI Code X Coordinate Y Coordinate  Year  \\\n",
       "879              46       06          NaN          NaN  2004   \n",
       "2544             61       26  1.17397e+06  1.87676e+06  2003   \n",
       "2919             22       20          NaN          NaN  2004   \n",
       "2927             20       06          NaN          NaN  2004   \n",
       "3302             49       06  1.17495e+06  1.83105e+06  2003   \n",
       "\n",
       "                  Updated On Latitude Longitude                       Location  \n",
       "879   08/17/2015 03:03:40 PM      NaN       NaN                            NaN  \n",
       "2544  04/15/2016 08:55:02 AM  41.8172  -87.6373  (41.817229156, -87.637328162)  \n",
       "2919  08/17/2015 03:03:40 PM      NaN       NaN                            NaN  \n",
       "2927  08/17/2015 03:03:40 PM      NaN       NaN                            NaN  \n",
       "3302  04/15/2016 08:55:02 AM  41.6918  -87.6351  (41.691784636, -87.635115968)  \n",
       "\n",
       "[5 rows x 22 columns]"
      ]
     },
     "execution_count": 14,
     "metadata": {},
     "output_type": "execute_result"
    }
   ],
   "source": [
    "full_dataset3.rename(columns={'Primary Type': 'Primary_Type'}, inplace=True)\n",
    "full_dataset3.head()"
   ]
  },
  {
   "cell_type": "code",
   "execution_count": 15,
   "metadata": {},
   "outputs": [
    {
     "name": "stderr",
     "output_type": "stream",
     "text": [
      "C:\\Users\\sanch\\Anaconda3\\lib\\site-packages\\pandas\\core\\generic.py:3924: SettingWithCopyWarning: \n",
      "A value is trying to be set on a copy of a slice from a DataFrame\n",
      "\n",
      "See the caveats in the documentation: http://pandas.pydata.org/pandas-docs/stable/indexing.html#indexing-view-versus-copy\n",
      "  self._update_inplace(new_data)\n"
     ]
    }
   ],
   "source": [
    "full_dataset3['Primary_Type'].replace('NON - CRIMINAL','NON-CRIMINAL',inplace=True)\n",
    "full_dataset3['Primary_Type'].replace('NON-CRIMINAL (SUBJECT SPECIFIED)','NON-CRIMINAL',inplace=True)"
   ]
  },
  {
   "cell_type": "code",
   "execution_count": 16,
   "metadata": {},
   "outputs": [
    {
     "data": {
      "text/plain": [
       "THEFT                                1640506\n",
       "BATTERY                              1442717\n",
       "CRIMINAL DAMAGE                       922999\n",
       "NARCOTICS                             885431\n",
       "OTHER OFFENSE                         491923\n",
       "ASSAULT                               481661\n",
       "BURGLARY                              470958\n",
       "MOTOR VEHICLE THEFT                   370548\n",
       "ROBBERY                               300453\n",
       "DECEPTIVE PRACTICE                    280931\n",
       "CRIMINAL TRESPASS                     229367\n",
       "PROSTITUTION                           86401\n",
       "WEAPONS VIOLATION                      77429\n",
       "PUBLIC PEACE VIOLATION                 58548\n",
       "OFFENSE INVOLVING CHILDREN             51441\n",
       "CRIM SEXUAL ASSAULT                    29868\n",
       "SEX OFFENSE                            28707\n",
       "GAMBLING                               18806\n",
       "LIQUOR LAW VIOLATION                   17513\n",
       "INTERFERENCE WITH PUBLIC OFFICER       15710\n",
       "ARSON                                  13097\n",
       "HOMICIDE                                9051\n",
       "KIDNAPPING                              7756\n",
       "INTIMIDATION                            4636\n",
       "STALKING                                3734\n",
       "OBSCENITY                                496\n",
       "PUBLIC INDECENCY                         163\n",
       "OTHER NARCOTIC VIOLATION                 144\n",
       "NON-CRIMINAL                             139\n",
       "CONCEALED CARRY LICENSE VIOLATION         90\n",
       "RITUALISM                                 31\n",
       "HUMAN TRAFFICKING                         28\n",
       "DOMESTIC VIOLENCE                          2\n",
       "Name: Primary_Type, dtype: int64"
      ]
     },
     "execution_count": 16,
     "metadata": {},
     "output_type": "execute_result"
    }
   ],
   "source": [
    "full_dataset3.sort_values(by=['Primary_Type'])\n",
    "full_dataset3.Primary_Type.value_counts()"
   ]
  },
  {
   "cell_type": "code",
   "execution_count": 17,
   "metadata": {},
   "outputs": [
    {
     "data": {
      "text/plain": [
       "array([False, True, 'False', 'True'], dtype=object)"
      ]
     },
     "execution_count": 17,
     "metadata": {},
     "output_type": "execute_result"
    }
   ],
   "source": [
    "full_dataset3.Arrest.unique()"
   ]
  },
  {
   "cell_type": "code",
   "execution_count": 18,
   "metadata": {},
   "outputs": [
    {
     "name": "stderr",
     "output_type": "stream",
     "text": [
      "C:\\Users\\sanch\\Anaconda3\\lib\\site-packages\\pandas\\core\\generic.py:3924: SettingWithCopyWarning: \n",
      "A value is trying to be set on a copy of a slice from a DataFrame\n",
      "\n",
      "See the caveats in the documentation: http://pandas.pydata.org/pandas-docs/stable/indexing.html#indexing-view-versus-copy\n",
      "  self._update_inplace(new_data)\n"
     ]
    }
   ],
   "source": [
    "full_dataset3['Arrest'].replace('True', True,inplace=True)\n",
    "full_dataset3['Arrest'].replace('False', False,inplace=True)"
   ]
  },
  {
   "cell_type": "code",
   "execution_count": 19,
   "metadata": {},
   "outputs": [
    {
     "data": {
      "text/plain": [
       "Year  Arrest\n",
       "2001  False     400628\n",
       "      True      167889\n",
       "2002  False     348074\n",
       "      True      142805\n",
       "2003  False     334414\n",
       "      True      141499\n",
       "2004  False     271524\n",
       "      True      116681\n",
       "2005  False     314652\n",
       "      True      141159\n",
       "2006  False     550904\n",
       "      True      243781\n",
       "2007  False     431718\n",
       "      True      190131\n",
       "2008  False     632831\n",
       "      True      219222\n",
       "2009  False     562848\n",
       "      True      221052\n",
       "2010  False     509189\n",
       "      True      191503\n",
       "2011  False     255841\n",
       "      True       96225\n",
       "2012  False     245159\n",
       "      True       90511\n",
       "2013  False     220484\n",
       "      True       86219\n",
       "2014  False     195470\n",
       "      True       79057\n",
       "2015  False     193598\n",
       "      True       69397\n",
       "2016  False     215076\n",
       "      True       50386\n",
       "2017  False       9455\n",
       "      True        1902\n",
       "Name: Arrest, dtype: int64"
      ]
     },
     "execution_count": 19,
     "metadata": {},
     "output_type": "execute_result"
    }
   ],
   "source": [
    "full_dataset3.groupby('Year').Arrest.value_counts()"
   ]
  },
  {
   "cell_type": "code",
   "execution_count": 25,
   "metadata": {},
   "outputs": [
    {
     "name": "stdout",
     "output_type": "stream",
     "text": [
      "<class 'pandas.core.frame.DataFrame'>\n",
      "Int64Index: 7929927 entries, 879 to 6253474\n",
      "Data columns (total 22 columns):\n",
      "ID                      float64\n",
      "Case Number             object\n",
      "Date                    object\n",
      "Block                   object\n",
      "IUCR                    object\n",
      "Primary_Type            object\n",
      "Description             object\n",
      "Location Description    object\n",
      "Arrest                  bool\n",
      "Domestic                object\n",
      "Beat                    object\n",
      "District                object\n",
      "Ward                    object\n",
      "Community Area          object\n",
      "FBI Code                object\n",
      "X Coordinate            object\n",
      "Y Coordinate            object\n",
      "Year                    object\n",
      "Updated On              object\n",
      "Latitude                object\n",
      "Longitude               object\n",
      "Location                object\n",
      "dtypes: bool(1), float64(1), object(20)\n",
      "memory usage: 1.3+ GB\n"
     ]
    }
   ],
   "source": [
    "# finalizing dataset\n",
    "\n",
    "final_dataset = full_dataset3[full_dataset3.Year != 2017]\n",
    "final_dataset.info()"
   ]
  },
  {
   "cell_type": "code",
   "execution_count": 26,
   "metadata": {},
   "outputs": [
    {
     "data": {
      "text/plain": [
       "2008    852053\n",
       "2006    794685\n",
       "2009    783900\n",
       "2010    700692\n",
       "2007    621849\n",
       "2001    568517\n",
       "2002    490879\n",
       "2003    475913\n",
       "2005    455811\n",
       "2004    388205\n",
       "2011    352066\n",
       "2012    335670\n",
       "2013    306703\n",
       "2014    274527\n",
       "2016    265462\n",
       "2015    262995\n",
       "Name: Year, dtype: int64"
      ]
     },
     "execution_count": 26,
     "metadata": {},
     "output_type": "execute_result"
    }
   ],
   "source": [
    "final_dataset.Year.value_counts()"
   ]
  },
  {
   "cell_type": "code",
   "execution_count": 20,
   "metadata": {},
   "outputs": [],
   "source": [
    "## BUILDING MODELS"
   ]
  },
  {
   "cell_type": "code",
   "execution_count": 27,
   "metadata": {},
   "outputs": [],
   "source": [
    "refined_data_set = final_dataset[['Date', 'IUCR', 'Primary_Type', 'Description', 'Location Description', 'Arrest', 'Domestic', 'Block']].copy()"
   ]
  },
  {
   "cell_type": "code",
   "execution_count": 28,
   "metadata": {},
   "outputs": [
    {
     "data": {
      "text/html": [
       "<div>\n",
       "<style>\n",
       "    .dataframe thead tr:only-child th {\n",
       "        text-align: right;\n",
       "    }\n",
       "\n",
       "    .dataframe thead th {\n",
       "        text-align: left;\n",
       "    }\n",
       "\n",
       "    .dataframe tbody tr th {\n",
       "        vertical-align: top;\n",
       "    }\n",
       "</style>\n",
       "<table border=\"1\" class=\"dataframe\">\n",
       "  <thead>\n",
       "    <tr style=\"text-align: right;\">\n",
       "      <th></th>\n",
       "      <th>Date</th>\n",
       "      <th>IUCR</th>\n",
       "      <th>Primary_Type</th>\n",
       "      <th>Description</th>\n",
       "      <th>Location Description</th>\n",
       "      <th>Arrest</th>\n",
       "      <th>Domestic</th>\n",
       "      <th>Block</th>\n",
       "    </tr>\n",
       "  </thead>\n",
       "  <tbody>\n",
       "    <tr>\n",
       "      <th>879</th>\n",
       "      <td>01/01/2004 12:01:00 AM</td>\n",
       "      <td>0840</td>\n",
       "      <td>THEFT</td>\n",
       "      <td>FINANCIAL ID THEFT: OVER $300</td>\n",
       "      <td>RESIDENCE</td>\n",
       "      <td>False</td>\n",
       "      <td>False</td>\n",
       "      <td>082XX S COLES AVE</td>\n",
       "    </tr>\n",
       "    <tr>\n",
       "      <th>2544</th>\n",
       "      <td>03/01/2003 12:00:00 AM</td>\n",
       "      <td>2825</td>\n",
       "      <td>OTHER OFFENSE</td>\n",
       "      <td>HARASSMENT BY TELEPHONE</td>\n",
       "      <td>RESIDENCE</td>\n",
       "      <td>False</td>\n",
       "      <td>True</td>\n",
       "      <td>004XX W 42ND PL</td>\n",
       "    </tr>\n",
       "    <tr>\n",
       "      <th>2919</th>\n",
       "      <td>06/20/2004 11:00:00 AM</td>\n",
       "      <td>1752</td>\n",
       "      <td>OFFENSE INVOLVING CHILDREN</td>\n",
       "      <td>AGG CRIM SEX ABUSE FAM MEMBER</td>\n",
       "      <td>RESIDENCE</td>\n",
       "      <td>False</td>\n",
       "      <td>False</td>\n",
       "      <td>025XX N KIMBALL AVE</td>\n",
       "    </tr>\n",
       "    <tr>\n",
       "      <th>2927</th>\n",
       "      <td>12/30/2004 08:00:00 PM</td>\n",
       "      <td>0840</td>\n",
       "      <td>THEFT</td>\n",
       "      <td>FINANCIAL ID THEFT: OVER $300</td>\n",
       "      <td>OTHER</td>\n",
       "      <td>False</td>\n",
       "      <td>False</td>\n",
       "      <td>045XX W MONTANA ST</td>\n",
       "    </tr>\n",
       "    <tr>\n",
       "      <th>3302</th>\n",
       "      <td>05/01/2003 01:00:00 AM</td>\n",
       "      <td>0841</td>\n",
       "      <td>THEFT</td>\n",
       "      <td>FINANCIAL ID THEFT:$300 &amp;UNDER</td>\n",
       "      <td>RESIDENCE</td>\n",
       "      <td>False</td>\n",
       "      <td>False</td>\n",
       "      <td>111XX S NORMAL AVE</td>\n",
       "    </tr>\n",
       "  </tbody>\n",
       "</table>\n",
       "</div>"
      ],
      "text/plain": [
       "                        Date  IUCR                Primary_Type  \\\n",
       "879   01/01/2004 12:01:00 AM  0840                       THEFT   \n",
       "2544  03/01/2003 12:00:00 AM  2825               OTHER OFFENSE   \n",
       "2919  06/20/2004 11:00:00 AM  1752  OFFENSE INVOLVING CHILDREN   \n",
       "2927  12/30/2004 08:00:00 PM  0840                       THEFT   \n",
       "3302  05/01/2003 01:00:00 AM  0841                       THEFT   \n",
       "\n",
       "                         Description Location Description  Arrest Domestic  \\\n",
       "879    FINANCIAL ID THEFT: OVER $300            RESIDENCE   False    False   \n",
       "2544         HARASSMENT BY TELEPHONE            RESIDENCE   False     True   \n",
       "2919   AGG CRIM SEX ABUSE FAM MEMBER            RESIDENCE   False    False   \n",
       "2927   FINANCIAL ID THEFT: OVER $300                OTHER   False    False   \n",
       "3302  FINANCIAL ID THEFT:$300 &UNDER            RESIDENCE   False    False   \n",
       "\n",
       "                    Block  \n",
       "879     082XX S COLES AVE  \n",
       "2544      004XX W 42ND PL  \n",
       "2919  025XX N KIMBALL AVE  \n",
       "2927   045XX W MONTANA ST  \n",
       "3302   111XX S NORMAL AVE  "
      ]
     },
     "execution_count": 28,
     "metadata": {},
     "output_type": "execute_result"
    }
   ],
   "source": [
    "refined_data_set.head()"
   ]
  },
  {
   "cell_type": "code",
   "execution_count": 23,
   "metadata": {},
   "outputs": [
    {
     "ename": "SyntaxError",
     "evalue": "invalid syntax (<ipython-input-23-678690879b61>, line 7)",
     "output_type": "error",
     "traceback": [
      "\u001b[1;36m  File \u001b[1;32m\"<ipython-input-23-678690879b61>\"\u001b[1;36m, line \u001b[1;32m7\u001b[0m\n\u001b[1;33m    X_train, X_test, y_train, y_test = train_test_split(, test_size=0.3, random_state = 42)\u001b[0m\n\u001b[1;37m                                                        ^\u001b[0m\n\u001b[1;31mSyntaxError\u001b[0m\u001b[1;31m:\u001b[0m invalid syntax\n"
     ]
    }
   ],
   "source": [
    "# Decision Tree Classifier\n",
    "\n",
    "from sklearn.model_selection import train_test_split\n",
    "X = refined_data_set[['Date', 'IUCR', 'Primary_Type', 'Description', 'Location Description', 'Domestic', 'Block']].copy()\n",
    "y = refined_data_set[['Arrest']].copy()\n",
    "\n",
    "X_train, X_test, y_train, y_test = train_test_split(, test_size=0.3, random_state = 42)\n",
    "\n",
    "from sklearn.tree import DecisionTreeClassifier\n",
    "from sklearn.metrics import accuracy_score\n",
    "\n",
    "\n"
   ]
  }
 ],
 "metadata": {
  "kernelspec": {
   "display_name": "Python 3",
   "language": "python",
   "name": "python3"
  },
  "language_info": {
   "codemirror_mode": {
    "name": "ipython",
    "version": 3
   },
   "file_extension": ".py",
   "mimetype": "text/x-python",
   "name": "python",
   "nbconvert_exporter": "python",
   "pygments_lexer": "ipython3",
   "version": "3.6.4"
  }
 },
 "nbformat": 4,
 "nbformat_minor": 2
}
